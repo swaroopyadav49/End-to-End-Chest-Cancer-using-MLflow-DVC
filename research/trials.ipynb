{
 "cells": [
  {
   "cell_type": "code",
   "execution_count": 1,
   "id": "99a7e587",
   "metadata": {},
   "outputs": [],
   "source": [
    "\n",
    "d = {\"key\":\"value\",\"key1\": \"value1\"}"
   ]
  },
  {
   "cell_type": "code",
   "execution_count": 2,
   "id": "e9a086c0",
   "metadata": {},
   "outputs": [
    {
     "data": {
      "text/plain": [
       "'value'"
      ]
     },
     "execution_count": 2,
     "metadata": {},
     "output_type": "execute_result"
    }
   ],
   "source": [
    "\n",
    "d[\"key\"]"
   ]
  },
  {
   "cell_type": "code",
   "execution_count": 3,
   "id": "1e1c6c00",
   "metadata": {},
   "outputs": [
    {
     "ename": "AttributeError",
     "evalue": "'dict' object has no attribute 'key'",
     "output_type": "error",
     "traceback": [
      "\u001b[1;31m---------------------------------------------------------------------------\u001b[0m",
      "\u001b[1;31mAttributeError\u001b[0m                            Traceback (most recent call last)",
      "Cell \u001b[1;32mIn[3], line 1\u001b[0m\n\u001b[1;32m----> 1\u001b[0m \u001b[43md\u001b[49m\u001b[38;5;241;43m.\u001b[39;49m\u001b[43mkey\u001b[49m\n",
      "\u001b[1;31mAttributeError\u001b[0m: 'dict' object has no attribute 'key'"
     ]
    }
   ],
   "source": [
    "d.key"
   ]
  },
  {
   "cell_type": "code",
   "execution_count": 4,
   "id": "1d1360da",
   "metadata": {},
   "outputs": [],
   "source": [
    "from box import ConfigBox"
   ]
  },
  {
   "cell_type": "code",
   "execution_count": 5,
   "id": "279f7506",
   "metadata": {},
   "outputs": [],
   "source": [
    "\n",
    "d2 = {\"key\":\"value\",\"key1\": \"value1\"}"
   ]
  },
  {
   "cell_type": "code",
   "execution_count": 6,
   "id": "8b64f4fa",
   "metadata": {},
   "outputs": [],
   "source": [
    "\n",
    "d2 = ConfigBox(d2)"
   ]
  },
  {
   "cell_type": "code",
   "execution_count": 7,
   "id": "a4a9da1a",
   "metadata": {},
   "outputs": [
    {
     "data": {
      "text/plain": [
       "ConfigBox({'key': 'value', 'key1': 'value1'})"
      ]
     },
     "execution_count": 7,
     "metadata": {},
     "output_type": "execute_result"
    }
   ],
   "source": [
    "d2"
   ]
  },
  {
   "cell_type": "code",
   "execution_count": 8,
   "id": "0ad97ab8",
   "metadata": {},
   "outputs": [
    {
     "data": {
      "text/plain": [
       "'value1'"
      ]
     },
     "execution_count": 8,
     "metadata": {},
     "output_type": "execute_result"
    }
   ],
   "source": [
    "\n",
    "d2.key1"
   ]
  },
  {
   "cell_type": "code",
   "execution_count": 9,
   "id": "9761ac92",
   "metadata": {},
   "outputs": [],
   "source": [
    "\n",
    "def get_product(x:int, y:int):\n",
    "    return x*y"
   ]
  },
  {
   "cell_type": "code",
   "execution_count": 13,
   "id": "3e3077c0",
   "metadata": {},
   "outputs": [
    {
     "data": {
      "text/plain": [
       "6"
      ]
     },
     "execution_count": 13,
     "metadata": {},
     "output_type": "execute_result"
    }
   ],
   "source": [
    "get_product(x = 2, y = 3)"
   ]
  },
  {
   "cell_type": "code",
   "execution_count": 14,
   "id": "047be5ff",
   "metadata": {},
   "outputs": [
    {
     "data": {
      "text/plain": [
       "'33'"
      ]
     },
     "execution_count": 14,
     "metadata": {},
     "output_type": "execute_result"
    }
   ],
   "source": [
    "\n",
    "get_product(x = 2, y = \"3\")"
   ]
  },
  {
   "cell_type": "code",
   "execution_count": 15,
   "id": "f15e5a39",
   "metadata": {},
   "outputs": [],
   "source": [
    "\n",
    "from ensure import ensure_annotations"
   ]
  },
  {
   "cell_type": "code",
   "execution_count": 16,
   "id": "d1465c70",
   "metadata": {},
   "outputs": [],
   "source": [
    "@ensure_annotations\n",
    "def get_product(x:int, y:int):\n",
    "    return x*y"
   ]
  },
  {
   "cell_type": "code",
   "execution_count": 20,
   "id": "df23000f",
   "metadata": {},
   "outputs": [
    {
     "data": {
      "text/plain": [
       "6"
      ]
     },
     "execution_count": 20,
     "metadata": {},
     "output_type": "execute_result"
    }
   ],
   "source": [
    "get_product(x = 2, y = 3)"
   ]
  },
  {
   "cell_type": "code",
   "execution_count": 19,
   "id": "ed506fb9",
   "metadata": {},
   "outputs": [
    {
     "ename": "EnsureError",
     "evalue": "Argument y of type <class 'str'> to <function get_product at 0x0000022932F0B940> does not match annotation type <class 'int'>",
     "output_type": "error",
     "traceback": [
      "\u001b[1;31m---------------------------------------------------------------------------\u001b[0m",
      "\u001b[1;31mEnsureError\u001b[0m                               Traceback (most recent call last)",
      "Cell \u001b[1;32mIn[19], line 1\u001b[0m\n\u001b[1;32m----> 1\u001b[0m \u001b[43mget_product\u001b[49m\u001b[43m(\u001b[49m\u001b[43mx\u001b[49m\u001b[43m \u001b[49m\u001b[38;5;241;43m=\u001b[39;49m\u001b[43m \u001b[49m\u001b[38;5;241;43m2\u001b[39;49m\u001b[43m,\u001b[49m\u001b[43m \u001b[49m\u001b[43my\u001b[49m\u001b[43m \u001b[49m\u001b[38;5;241;43m=\u001b[39;49m\u001b[43m \u001b[49m\u001b[38;5;124;43m\"\u001b[39;49m\u001b[38;5;124;43m3\u001b[39;49m\u001b[38;5;124;43m\"\u001b[39;49m\u001b[43m)\u001b[49m\n",
      "File \u001b[1;32mc:\\Users\\swaro\\anaconda3\\envs\\cancer\\lib\\site-packages\\ensure\\main.py:803\u001b[0m, in \u001b[0;36mWrappedFunction.__call__\u001b[1;34m(self, *args, **kwargs)\u001b[0m\n\u001b[0;32m    798\u001b[0m     \u001b[38;5;28;01mif\u001b[39;00m \u001b[38;5;129;01mnot\u001b[39;00m \u001b[38;5;28misinstance\u001b[39m(value, templ):\n\u001b[0;32m    799\u001b[0m         msg \u001b[38;5;241m=\u001b[39m (\n\u001b[0;32m    800\u001b[0m             \u001b[38;5;124m\"\u001b[39m\u001b[38;5;124mArgument \u001b[39m\u001b[38;5;132;01m{arg}\u001b[39;00m\u001b[38;5;124m of type \u001b[39m\u001b[38;5;132;01m{valt}\u001b[39;00m\u001b[38;5;124m to \u001b[39m\u001b[38;5;132;01m{f}\u001b[39;00m\u001b[38;5;124m \u001b[39m\u001b[38;5;124m\"\u001b[39m\n\u001b[0;32m    801\u001b[0m             \u001b[38;5;124m\"\u001b[39m\u001b[38;5;124mdoes not match annotation type \u001b[39m\u001b[38;5;132;01m{t}\u001b[39;00m\u001b[38;5;124m\"\u001b[39m\n\u001b[0;32m    802\u001b[0m         )\n\u001b[1;32m--> 803\u001b[0m         \u001b[38;5;28;01mraise\u001b[39;00m EnsureError(msg\u001b[38;5;241m.\u001b[39mformat(\n\u001b[0;32m    804\u001b[0m             arg\u001b[38;5;241m=\u001b[39marg, f\u001b[38;5;241m=\u001b[39m\u001b[38;5;28mself\u001b[39m\u001b[38;5;241m.\u001b[39mf, t\u001b[38;5;241m=\u001b[39mtempl, valt\u001b[38;5;241m=\u001b[39m\u001b[38;5;28mtype\u001b[39m(value)\n\u001b[0;32m    805\u001b[0m         ))\n\u001b[0;32m    807\u001b[0m \u001b[38;5;28;01mreturn\u001b[39;00m \u001b[38;5;28mself\u001b[39m\u001b[38;5;241m.\u001b[39mf(\u001b[38;5;241m*\u001b[39margs, \u001b[38;5;241m*\u001b[39m\u001b[38;5;241m*\u001b[39mkwargs)\n",
      "\u001b[1;31mEnsureError\u001b[0m: Argument y of type <class 'str'> to <function get_product at 0x0000022932F0B940> does not match annotation type <class 'int'>"
     ]
    }
   ],
   "source": [
    "get_product(x = 2, y = \"3\")"
   ]
  },
  {
   "cell_type": "markdown",
   "id": "cf58ad64",
   "metadata": {},
   "source": [
    "# Download data from gdrive"
   ]
  },
  {
   "cell_type": "code",
   "execution_count": 21,
   "id": "b2c97317",
   "metadata": {},
   "outputs": [],
   "source": [
    "\n",
    "import gdown"
   ]
  },
  {
   "cell_type": "code",
   "execution_count": 22,
   "id": "710b26bf",
   "metadata": {},
   "outputs": [],
   "source": [
    "\n",
    "url = \"https://drive.google.com/file/d/1v5sf4HnrRrvx9FjAXDoNAxL7UKX1x3sQ/view?usp=drive_link\""
   ]
  },
  {
   "cell_type": "code",
   "execution_count": 29,
   "id": "c497e8bd",
   "metadata": {},
   "outputs": [
    {
     "data": {
      "text/plain": [
       "str"
      ]
     },
     "execution_count": 29,
     "metadata": {},
     "output_type": "execute_result"
    }
   ],
   "source": [
    "type(url)"
   ]
  },
  {
   "cell_type": "code",
   "execution_count": 30,
   "id": "ead19a4e",
   "metadata": {},
   "outputs": [
    {
     "data": {
      "text/plain": [
       "'1v5sf4HnrRrvx9FjAXDoNAxL7UKX1x3sQ'"
      ]
     },
     "execution_count": 30,
     "metadata": {},
     "output_type": "execute_result"
    }
   ],
   "source": [
    "file_id = url.split(\"/\")[-2]\n",
    "file_id"
   ]
  },
  {
   "cell_type": "code",
   "execution_count": 31,
   "id": "cee8196d",
   "metadata": {},
   "outputs": [],
   "source": [
    "# Construct the correct download URL\n",
    "prefix = \"https://drive.google.com/uc?id=\"\n",
    "download_url = prefix + file_id"
   ]
  },
  {
   "cell_type": "code",
   "execution_count": 32,
   "id": "9e4f2a5b",
   "metadata": {},
   "outputs": [
    {
     "name": "stderr",
     "output_type": "stream",
     "text": [
      "Downloading...\n",
      "From (original): https://drive.google.com/uc?id=1v5sf4HnrRrvx9FjAXDoNAxL7UKX1x3sQ\n",
      "From (redirected): https://drive.google.com/uc?id=1v5sf4HnrRrvx9FjAXDoNAxL7UKX1x3sQ&confirm=t&uuid=48ee58c9-0a38-4142-9f4d-dfb06fdcc261\n",
      "To: d:\\Udamy\\End-to-End-Chest-Cancer-using-MLflow-DVC\\research\\cancer.zip\n",
      "100%|██████████| 49.0M/49.0M [00:09<00:00, 5.28MB/s]\n"
     ]
    },
    {
     "data": {
      "text/plain": [
       "'cancer.zip'"
      ]
     },
     "execution_count": 32,
     "metadata": {},
     "output_type": "execute_result"
    }
   ],
   "source": [
    "# Download the file\n",
    "gdown.download(download_url, \"cancer.zip\", quiet=False)"
   ]
  }
 ],
 "metadata": {
  "kernelspec": {
   "display_name": "cancer",
   "language": "python",
   "name": "python3"
  },
  "language_info": {
   "codemirror_mode": {
    "name": "ipython",
    "version": 3
   },
   "file_extension": ".py",
   "mimetype": "text/x-python",
   "name": "python",
   "nbconvert_exporter": "python",
   "pygments_lexer": "ipython3",
   "version": "3.8.20"
  }
 },
 "nbformat": 4,
 "nbformat_minor": 5
}
